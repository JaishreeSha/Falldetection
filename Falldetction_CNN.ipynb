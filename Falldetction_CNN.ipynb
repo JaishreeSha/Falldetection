{
  "nbformat": 4,
  "nbformat_minor": 0,
  "metadata": {
    "colab": {
      "name": "Falldetction_CNN.ipynb",
      "provenance": [],
      "authorship_tag": "ABX9TyPxfsUwkmIpIk1upct7njN9",
      "include_colab_link": true
    },
    "kernelspec": {
      "name": "python3",
      "display_name": "Python 3"
    },
    "language_info": {
      "name": "python"
    }
  },
  "cells": [
    {
      "cell_type": "markdown",
      "metadata": {
        "id": "view-in-github",
        "colab_type": "text"
      },
      "source": [
        "<a href=\"https://colab.research.google.com/github/JaishreeSha/Falldetection/blob/main/Falldetction_CNN.ipynb\" target=\"_parent\"><img src=\"https://colab.research.google.com/assets/colab-badge.svg\" alt=\"Open In Colab\"/></a>"
      ]
    },
    {
      "cell_type": "code",
      "source": [
        "from google.colab import drive\n",
        "drive.mount('/content/drive')"
      ],
      "metadata": {
        "colab": {
          "base_uri": "https://localhost:8080/"
        },
        "id": "uQUDUEhekAj6",
        "outputId": "f083b901-a5e9-49df-c101-a6a38834972b"
      },
      "execution_count": null,
      "outputs": [
        {
          "output_type": "stream",
          "name": "stdout",
          "text": [
            "Drive already mounted at /content/drive; to attempt to forcibly remount, call drive.mount(\"/content/drive\", force_remount=True).\n"
          ]
        }
      ]
    },
    {
      "cell_type": "code",
      "execution_count": null,
      "metadata": {
        "id": "_Ujnv9Z_Wr_s"
      },
      "outputs": [],
      "source": [
        "import os\n",
        "train_dir = '/content/drive/MyDrive/Dataset/train'\n",
        "validation_dir ='/content/drive/MyDrive/Dataset/test'\n"
      ]
    },
    {
      "cell_type": "code",
      "source": [
        "from tensorflow.keras import layers\n",
        "from tensorflow.keras import Model"
      ],
      "metadata": {
        "id": "2MpfTv0kkWbF"
      },
      "execution_count": null,
      "outputs": []
    },
    {
      "cell_type": "code",
      "source": [
        "img_input = layers.Input(shape=(150, 150, 3))\n",
        "x = layers.Conv2D(16, 3, activation='relu')(img_input)\n",
        "x = layers.MaxPooling2D(2)(x)\n",
        "x = layers.Conv2D(32, 3, activation='relu')(x)\n",
        "x = layers.MaxPooling2D(2)(x)\n",
        "x = layers.Conv2D(64, 3, activation='relu')(x)\n",
        "x = layers.MaxPooling2D(2)(x)\n",
        "x = layers.Flatten()(x)\n",
        "x = layers.Dense(512, activation='relu')(x)\n",
        "output = layers.Dense(1, activation='sigmoid')(x)\n",
        "model = Model(img_input, output)"
      ],
      "metadata": {
        "id": "J6AH4A6ckbta"
      },
      "execution_count": null,
      "outputs": []
    },
    {
      "cell_type": "code",
      "source": [
        "# Flatten feature map to a 1-dim tensor so we can add fully connected layers\n",
        "x = layers.Flatten()(x)\n",
        "\n",
        "# Create a fully connected layer with ReLU activation and 512 hidden units\n",
        "x = layers.Dense(512, activation='relu')(x)\n",
        "\n",
        "# Create output layer with a single node and sigmoid activation\n",
        "output = layers.Dense(1, activation='sigmoid')(x)\n",
        "\n",
        "# Create model:\n",
        "# input = input feature map\n",
        "# output = input feature map + stacked convolution/maxpooling layers + fully \n",
        "# connected layer + sigmoid output layer\n",
        "model = Model(img_input, output)"
      ],
      "metadata": {
        "id": "ngPS0qbbkdeL"
      },
      "execution_count": null,
      "outputs": []
    },
    {
      "cell_type": "code",
      "source": [
        "model.summary()"
      ],
      "metadata": {
        "colab": {
          "base_uri": "https://localhost:8080/"
        },
        "id": "TDfi-TR2khB6",
        "outputId": "6dc225e1-3974-4e20-e2b4-3cd0b42fb29a"
      },
      "execution_count": null,
      "outputs": [
        {
          "output_type": "stream",
          "name": "stdout",
          "text": [
            "Model: \"model_1\"\n",
            "_________________________________________________________________\n",
            " Layer (type)                Output Shape              Param #   \n",
            "=================================================================\n",
            " input_1 (InputLayer)        [(None, 150, 150, 3)]     0         \n",
            "                                                                 \n",
            " conv2d (Conv2D)             (None, 148, 148, 16)      448       \n",
            "                                                                 \n",
            " max_pooling2d (MaxPooling2D  (None, 74, 74, 16)       0         \n",
            " )                                                               \n",
            "                                                                 \n",
            " conv2d_1 (Conv2D)           (None, 72, 72, 32)        4640      \n",
            "                                                                 \n",
            " max_pooling2d_1 (MaxPooling  (None, 36, 36, 32)       0         \n",
            " 2D)                                                             \n",
            "                                                                 \n",
            " conv2d_2 (Conv2D)           (None, 34, 34, 64)        18496     \n",
            "                                                                 \n",
            " max_pooling2d_2 (MaxPooling  (None, 17, 17, 64)       0         \n",
            " 2D)                                                             \n",
            "                                                                 \n",
            " flatten (Flatten)           (None, 18496)             0         \n",
            "                                                                 \n",
            " dense (Dense)               (None, 512)               9470464   \n",
            "                                                                 \n",
            " flatten_1 (Flatten)         (None, 512)               0         \n",
            "                                                                 \n",
            " dense_2 (Dense)             (None, 512)               262656    \n",
            "                                                                 \n",
            " dense_3 (Dense)             (None, 1)                 513       \n",
            "                                                                 \n",
            "=================================================================\n",
            "Total params: 9,757,217\n",
            "Trainable params: 9,757,217\n",
            "Non-trainable params: 0\n",
            "_________________________________________________________________\n"
          ]
        }
      ]
    },
    {
      "cell_type": "code",
      "source": [
        "from tensorflow.keras.optimizers import RMSprop\n",
        "\n",
        "model.compile(loss='binary_crossentropy',\n",
        "              optimizer=RMSprop(lr=0.001),\n",
        "              metrics=['acc'])"
      ],
      "metadata": {
        "colab": {
          "base_uri": "https://localhost:8080/"
        },
        "id": "TUqcBhItkluq",
        "outputId": "2ae4feaa-1c4b-48c2-a150-d5b858ff17ba"
      },
      "execution_count": null,
      "outputs": [
        {
          "output_type": "stream",
          "name": "stderr",
          "text": [
            "/usr/local/lib/python3.7/dist-packages/keras/optimizer_v2/rmsprop.py:130: UserWarning: The `lr` argument is deprecated, use `learning_rate` instead.\n",
            "  super(RMSprop, self).__init__(name, **kwargs)\n"
          ]
        }
      ]
    },
    {
      "cell_type": "code",
      "source": [
        "from tensorflow.keras.preprocessing.image import ImageDataGenerator\n",
        "# All images will be rescaled by 1./255\n",
        "train_datagen = ImageDataGenerator(rescale=1./255)\n",
        "val_datagen = ImageDataGenerator(rescale=1./255)\n",
        "# Flow training images in batches of 20 using train_datagen generator\n",
        "train_generator = train_datagen.flow_from_directory(\n",
        "        train_dir,  # This is the source directory for training images\n",
        "        target_size=(150, 150),  # All images will be resized to 150x150\n",
        "        batch_size=20,\n",
        "        # Since we use binary_crossentropy loss, we need binary labels\n",
        "        class_mode='binary')\n",
        "\n",
        "# Flow validation images in batches of 20 using val_datagen generator\n",
        "validation_generator = val_datagen.flow_from_directory(\n",
        "        validation_dir,\n",
        "        target_size=(150, 150),\n",
        "        batch_size=20,\n",
        "        class_mode='binary')"
      ],
      "metadata": {
        "colab": {
          "base_uri": "https://localhost:8080/"
        },
        "id": "g3_qez1Ykohb",
        "outputId": "1874d864-889f-474f-a8a7-4a2eac80277b"
      },
      "execution_count": null,
      "outputs": [
        {
          "output_type": "stream",
          "name": "stdout",
          "text": [
            "Found 374 images belonging to 2 classes.\n",
            "Found 111 images belonging to 2 classes.\n"
          ]
        }
      ]
    },
    {
      "cell_type": "code",
      "source": [
        "history=model.fit(train_generator,epochs = 12,validation_data = validation_generator)"
      ],
      "metadata": {
        "colab": {
          "base_uri": "https://localhost:8080/"
        },
        "id": "f3rhoC3Mk9gL",
        "outputId": "3aee907a-91a3-43f7-a49a-86fcc97fc388"
      },
      "execution_count": null,
      "outputs": [
        {
          "output_type": "stream",
          "name": "stdout",
          "text": [
            "Epoch 1/12\n",
            "19/19 [==============================] - 13s 616ms/step - loss: 1.8683 - acc: 0.5267 - val_loss: 0.6404 - val_acc: 0.7117\n",
            "Epoch 2/12\n",
            "19/19 [==============================] - 12s 622ms/step - loss: 0.7950 - acc: 0.6497 - val_loss: 0.7175 - val_acc: 0.4324\n",
            "Epoch 3/12\n",
            "19/19 [==============================] - 11s 595ms/step - loss: 0.5659 - acc: 0.7246 - val_loss: 0.6046 - val_acc: 0.6216\n",
            "Epoch 4/12\n",
            "19/19 [==============================] - 12s 636ms/step - loss: 0.4603 - acc: 0.7594 - val_loss: 0.7812 - val_acc: 0.5495\n",
            "Epoch 5/12\n",
            "19/19 [==============================] - 11s 594ms/step - loss: 0.4465 - acc: 0.8128 - val_loss: 0.9932 - val_acc: 0.5315\n",
            "Epoch 6/12\n",
            "19/19 [==============================] - 12s 603ms/step - loss: 0.3221 - acc: 0.8824 - val_loss: 2.1386 - val_acc: 0.4865\n",
            "Epoch 7/12\n",
            "19/19 [==============================] - 11s 596ms/step - loss: 0.2734 - acc: 0.9011 - val_loss: 2.6153 - val_acc: 0.4685\n",
            "Epoch 8/12\n",
            "19/19 [==============================] - 11s 598ms/step - loss: 0.1779 - acc: 0.9358 - val_loss: 3.1269 - val_acc: 0.4505\n",
            "Epoch 9/12\n",
            "19/19 [==============================] - 12s 601ms/step - loss: 0.1599 - acc: 0.9439 - val_loss: 1.2776 - val_acc: 0.6486\n",
            "Epoch 10/12\n",
            "19/19 [==============================] - 11s 590ms/step - loss: 0.3166 - acc: 0.9225 - val_loss: 1.0188 - val_acc: 0.7027\n",
            "Epoch 11/12\n",
            "19/19 [==============================] - 11s 600ms/step - loss: 0.0507 - acc: 0.9866 - val_loss: 1.3688 - val_acc: 0.7117\n",
            "Epoch 12/12\n",
            "19/19 [==============================] - 11s 595ms/step - loss: 0.1271 - acc: 0.9733 - val_loss: 1.7291 - val_acc: 0.6126\n"
          ]
        }
      ]
    },
    {
      "cell_type": "code",
      "source": [
        "# Saving Model\n",
        "model.save(filepath='/content/drive/MyDrive/Dataset/fall_detection_model.h5', overwrite=True)"
      ],
      "metadata": {
        "id": "FtcBqgiGl3pE"
      },
      "execution_count": null,
      "outputs": []
    },
    {
      "cell_type": "code",
      "source": [
        "from keras.preprocessing.image import load_img\n",
        "from keras.preprocessing.image import img_to_array\n",
        "from keras.models import load_model\n",
        "def load_image(filename):\n",
        "\t# load the image\n",
        "\timg = load_img(filename, target_size=(150,150))\n",
        "\t# convert to array\n",
        "\timg = img_to_array(img)\n",
        "\t# reshape into a single sample with 3 channels\n",
        "\timg = img.reshape(1,150,150, 3)\n",
        "\t# center pixel data\n",
        "\timg = img.astype('float32')\n",
        "\timg = img - [123.68, 116.779, 103.939]\n",
        "\treturn img\n",
        "img = load_image('/content/drive/MyDrive/Dataset/test/Fall/fall001.jpg')\n",
        "# predict the class\n",
        "result = model.predict(img)\n",
        "if(result[0]==1):\n",
        "  print(\"Fall\")\n",
        "else:\n",
        "  print(\"Not Fall\")"
      ],
      "metadata": {
        "colab": {
          "base_uri": "https://localhost:8080/"
        },
        "id": "gBSYaGPcmILz",
        "outputId": "24dc6d12-059e-4538-81df-ab3b1c32179c"
      },
      "execution_count": null,
      "outputs": [
        {
          "output_type": "stream",
          "name": "stdout",
          "text": [
            "Fall\n"
          ]
        }
      ]
    },
    {
      "cell_type": "code",
      "source": [
        "import pandas as pd\n",
        "import numpy as np\n",
        "from keras.preprocessing import image\n",
        "y_actual, y_test = [],[]\n",
        "for i in os.listdir(\"/content/drive/MyDrive/Dataset/train/Notfall/\"):\n",
        "    img=image.load_img(\"/content/drive/MyDrive/Dataset/train/Notfall/\"+i,target_size=(150,150))\n",
        "    img=image.img_to_array(img)\n",
        "    img=np.expand_dims(img,axis=0)\n",
        "    pred=model.predict(img)\n",
        "    y_test.append(int(pred[0,0]))\n",
        "    y_actual.append(1)\n",
        "\n",
        "for i in os.listdir(\"/content/drive/MyDrive/Dataset/train/Fall/\"):\n",
        "    img=image.load_img(\"/content/drive/MyDrive/Dataset/train/Fall/\"+i,target_size=(150,150))\n",
        "    img=image.img_to_array(img)\n",
        "    img=np.expand_dims(img,axis=0)\n",
        "    pred=model.predict(img)\n",
        "    y_test.append(int(pred[0,0]))\n",
        "    y_actual.append(0)"
      ],
      "metadata": {
        "id": "hX3V_epPmjmc"
      },
      "execution_count": null,
      "outputs": []
    },
    {
      "cell_type": "code",
      "source": [
        "from sklearn import metrics\n",
        "\n",
        "expected_y  = y_actual\n",
        "y_pred= y_test\n",
        "\n",
        "# summarize the fit of the model\n",
        "print(); print(metrics.classification_report(expected_y,y_pred))\n",
        "print(); print(metrics.confusion_matrix(expected_y, y_pred))\n",
        "print(\"Accuracy:  \",metrics.accuracy_score(expected_y, y_pred))"
      ],
      "metadata": {
        "colab": {
          "base_uri": "https://localhost:8080/"
        },
        "id": "D49arkvYnoWp",
        "outputId": "8a61f99d-6f12-420c-c9de-59e06de79564"
      },
      "execution_count": null,
      "outputs": [
        {
          "output_type": "stream",
          "name": "stdout",
          "text": [
            "\n",
            "              precision    recall  f1-score   support\n",
            "\n",
            "           0       0.98      0.96      0.97       208\n",
            "           1       0.95      0.98      0.96       166\n",
            "\n",
            "    accuracy                           0.97       374\n",
            "   macro avg       0.96      0.97      0.96       374\n",
            "weighted avg       0.97      0.97      0.97       374\n",
            "\n",
            "\n",
            "[[199   9]\n",
            " [  4 162]]\n",
            "Accuracy:   0.9652406417112299\n"
          ]
        }
      ]
    },
    {
      "cell_type": "code",
      "source": [
        "# calculate accuracy\n",
        "y_test=y_actual\n",
        "from sklearn import metrics\n",
        "print(\"ACCURACY:\")\n",
        "print(metrics.accuracy_score(y_test, y_pred))\n",
        "confusion = metrics.confusion_matrix(y_test, y_pred)\n",
        "print(confusion)\n",
        "#[row, column]\n",
        "TP = confusion[1, 1]\n",
        "TN = confusion[0, 0]\n",
        "FP = confusion[0, 1]\n",
        "FN = confusion[1, 0]\n",
        "print(\"sensitivity\")\n",
        "print(metrics.recall_score(y_test, y_pred))\n",
        "print(\"True Positive Rate\")\n",
        "specificity = TN / (TN + FP)\n",
        "print(specificity)\n",
        "false_positive_rate = FP / float(TN + FP)\n",
        "print(\"false_positive_rate\")\n",
        "print(false_positive_rate)\n",
        "print(\"precision\")\n",
        "print(metrics.precision_score(y_test, y_pred))\n",
        "print(\"ROC_AUC_SCORE\")\n",
        "print(metrics.roc_auc_score(y_test, y_pred))\n",
        "from sklearn.metrics import f1_score\n",
        "score = f1_score(y_test, y_pred, average='binary')\n",
        "print('F-Measure: %.3f' % score)"
      ],
      "metadata": {
        "colab": {
          "base_uri": "https://localhost:8080/"
        },
        "id": "GnlnZHeTpD-z",
        "outputId": "3013c829-5d67-495e-82e3-e1c24f8c24dc"
      },
      "execution_count": null,
      "outputs": [
        {
          "output_type": "stream",
          "name": "stdout",
          "text": [
            "ACCURACY:\n",
            "0.9652406417112299\n",
            "[[199   9]\n",
            " [  4 162]]\n",
            "sensitivity\n",
            "0.9759036144578314\n",
            "True Positive Rate\n",
            "0.9567307692307693\n",
            "false_positive_rate\n",
            "0.04326923076923077\n",
            "precision\n",
            "0.9473684210526315\n",
            "ROC_AUC_SCORE\n",
            "0.9663171918443004\n",
            "F-Measure: 0.961\n"
          ]
        }
      ]
    },
    {
      "cell_type": "code",
      "source": [
        "import matplotlib.pyplot as plt\n",
        "fpr, tpr, thresholds = metrics.roc_curve(y_test, y_pred)\n",
        "plt.plot(fpr, tpr)\n",
        "plt.xlim([0.0, 1.0])\n",
        "plt.ylim([0.0, 1.0])\n",
        "plt.rcParams['font.size'] = 12\n",
        "plt.title('ROC_CURVE for fall detection CNN model')\n",
        "plt.xlabel('False Positive Rate (1 - Specificity)')\n",
        "plt.ylabel('True Positive Rate (Sensitivity)')\n",
        "plt.grid(True)"
      ],
      "metadata": {
        "colab": {
          "base_uri": "https://localhost:8080/",
          "height": 302
        },
        "id": "lRO2Lm5PpqUy",
        "outputId": "696f3e48-1b28-4d3f-f855-fcbb0c1efd16"
      },
      "execution_count": null,
      "outputs": [
        {
          "output_type": "display_data",
          "data": {
            "text/plain": [
              "<Figure size 432x288 with 1 Axes>"
            ],
            "image/png": "[encoded data removed]"
          },
          "metadata": {
            "needs_background": "light"
          }
        }
      ]
    },
    {
      "cell_type": "code",
      "source": [
        "from sklearn.metrics import confusion_matrix\n",
        "cm = confusion_matrix(y_test, y_pred)\n",
        "fig, ax = plt.subplots(figsize=(6,6))\n",
        "ax.imshow(cm)\n",
        "ax.grid(False)\n",
        "ax.xaxis.set(ticks=(0, 1), ticklabels=('Predicted Fall', 'Predicted Not Fall'))\n",
        "ax.yaxis.set(ticks=(0, 1), ticklabels=('Actual Fall', 'Actual Not Fall'))\n",
        "ax.set_ylim(1.5, -0.5)\n",
        "for i in range(2):\n",
        "    for j in range(2):\n",
        "        ax.text(j, i, cm[i, j], ha='center', va='center', color='red')\n",
        "plt.title(\"Confusion matrix \")\n",
        "plt.show()"
      ],
      "metadata": {
        "colab": {
          "base_uri": "https://localhost:8080/",
          "height": 394
        },
        "id": "6BXXZ1851OwV",
        "outputId": "2fa7db71-9f42-4227-c7fc-8baf9bfd2419"
      },
      "execution_count": null,
      "outputs": [
        {
          "output_type": "display_data",
          "data": {
            "text/plain": [
              "<Figure size 432x432 with 1 Axes>"
            ],
            "image/png": "[encoded data removed]"
          },
          "metadata": {
            "needs_background": "light"
          }
        }
      ]
    }
  ]
}